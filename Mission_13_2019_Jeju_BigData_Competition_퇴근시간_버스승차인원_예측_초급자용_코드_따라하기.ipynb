{
  "nbformat": 4,
  "nbformat_minor": 0,
  "metadata": {
    "colab": {
      "name": " Mission 13. 2019 Jeju BigData Competition - 퇴근시간 버스승차인원 예측_초급자용 코드 따라하기.ipynb",
      "provenance": [],
      "collapsed_sections": [],
      "include_colab_link": true
    },
    "kernelspec": {
      "name": "python3",
      "display_name": "Python 3"
    }
  },
  "cells": [
    {
      "cell_type": "markdown",
      "metadata": {
        "id": "view-in-github",
        "colab_type": "text"
      },
      "source": [
        "<a href=\"https://colab.research.google.com/github/junoru/Dacon-Competition-01/blob/master/Mission_13_2019_Jeju_BigData_Competition_%ED%87%B4%EA%B7%BC%EC%8B%9C%EA%B0%84_%EB%B2%84%EC%8A%A4%EC%8A%B9%EC%B0%A8%EC%9D%B8%EC%9B%90_%EC%98%88%EC%B8%A1_%EC%B4%88%EA%B8%89%EC%9E%90%EC%9A%A9_%EC%BD%94%EB%93%9C_%EB%94%B0%EB%9D%BC%ED%95%98%EA%B8%B0.ipynb\" target=\"_parent\"><img src=\"https://colab.research.google.com/assets/colab-badge.svg\" alt=\"Open In Colab\"/></a>"
      ]
    },
    {
      "cell_type": "code",
      "metadata": {
        "id": "rOf2vDCmfDHL",
        "colab_type": "code",
        "colab": {
          "base_uri": "https://localhost:8080/",
          "height": 35
        },
        "outputId": "9cbc56c8-551f-460e-b804-eb2cfd913406"
      },
      "source": [
        "from google.colab import drive\n",
        "drive.mount('/content/drive')"
      ],
      "execution_count": 53,
      "outputs": [
        {
          "output_type": "stream",
          "text": [
            "Drive already mounted at /content/drive; to attempt to forcibly remount, call drive.mount(\"/content/drive\", force_remount=True).\n"
          ],
          "name": "stdout"
        }
      ]
    },
    {
      "cell_type": "markdown",
      "metadata": {
        "id": "IsBWfEtvfkcx",
        "colab_type": "text"
      },
      "source": [
        "# **1. 초급자용 코드 따라하기** "
      ]
    },
    {
      "cell_type": "code",
      "metadata": {
        "id": "-VLDRbobfEDt",
        "colab_type": "code",
        "colab": {
          "base_uri": "https://localhost:8080/",
          "height": 54
        },
        "outputId": "eb4e14a9-e275-4101-d0d3-4259ee657841"
      },
      "source": [
        "#라이브러리 임포트\n",
        "import pandas as pd\n",
        "import warnings\n",
        "warnings.filterwarnings('ignore')\n",
        "!pip install geopy"
      ],
      "execution_count": 54,
      "outputs": [
        {
          "output_type": "stream",
          "text": [
            "Requirement already satisfied: geopy in /usr/local/lib/python3.6/dist-packages (1.17.0)\n",
            "Requirement already satisfied: geographiclib<2,>=1.49 in /usr/local/lib/python3.6/dist-packages (from geopy) (1.50)\n"
          ],
          "name": "stdout"
        }
      ]
    },
    {
      "cell_type": "code",
      "metadata": {
        "id": "GOON2sC9ffEr",
        "colab_type": "code",
        "colab": {}
      },
      "source": [
        "#데이터 받아오기\n",
        "train = pd.read_csv(\"/content/drive/My Drive/데이콘 공모전/데이터/13회 제주테크노파크 버스정류장 승하차 예측 data/train.csv\")\n",
        "test = pd.read_csv(\"/content/drive/My Drive/데이콘 공모전/데이터/13회 제주테크노파크 버스정류장 승하차 예측 data/test.csv\")"
      ],
      "execution_count": 0,
      "outputs": []
    },
    {
      "cell_type": "code",
      "metadata": {
        "id": "G0q_IqWufekV",
        "colab_type": "code",
        "colab": {
          "base_uri": "https://localhost:8080/",
          "height": 54
        },
        "outputId": "80f73abf-fa84-4b90-8732-247b043dbd14"
      },
      "source": [
        "#데이터 형태 보기\n",
        "print(\"train shape : \" , train.shape)\n",
        "print(\"test shape : \", test.shape)"
      ],
      "execution_count": 10,
      "outputs": [
        {
          "output_type": "stream",
          "text": [
            "train shape :  (415423, 21)\n",
            "test shape :  (228170, 20)\n"
          ],
          "name": "stdout"
        }
      ]
    },
    {
      "cell_type": "code",
      "metadata": {
        "id": "X5LsR5X8iLzM",
        "colab_type": "code",
        "colab": {
          "base_uri": "https://localhost:8080/",
          "height": 305
        },
        "outputId": "196db997-3681-4255-d295-37eb038a04be"
      },
      "source": [
        "train.head()"
      ],
      "execution_count": 17,
      "outputs": [
        {
          "output_type": "execute_result",
          "data": {
            "text/html": [
              "<div>\n",
              "<style scoped>\n",
              "    .dataframe tbody tr th:only-of-type {\n",
              "        vertical-align: middle;\n",
              "    }\n",
              "\n",
              "    .dataframe tbody tr th {\n",
              "        vertical-align: top;\n",
              "    }\n",
              "\n",
              "    .dataframe thead th {\n",
              "        text-align: right;\n",
              "    }\n",
              "</style>\n",
              "<table border=\"1\" class=\"dataframe\">\n",
              "  <thead>\n",
              "    <tr style=\"text-align: right;\">\n",
              "      <th></th>\n",
              "      <th>id</th>\n",
              "      <th>date</th>\n",
              "      <th>bus_route_id</th>\n",
              "      <th>in_out</th>\n",
              "      <th>station_code</th>\n",
              "      <th>station_name</th>\n",
              "      <th>latitude</th>\n",
              "      <th>longitude</th>\n",
              "      <th>6~7_ride</th>\n",
              "      <th>7~8_ride</th>\n",
              "      <th>8~9_ride</th>\n",
              "      <th>9~10_ride</th>\n",
              "      <th>10~11_ride</th>\n",
              "      <th>11~12_ride</th>\n",
              "      <th>6~7_takeoff</th>\n",
              "      <th>7~8_takeoff</th>\n",
              "      <th>8~9_takeoff</th>\n",
              "      <th>9~10_takeoff</th>\n",
              "      <th>10~11_takeoff</th>\n",
              "      <th>11~12_takeoff</th>\n",
              "      <th>18~20_ride</th>\n",
              "    </tr>\n",
              "  </thead>\n",
              "  <tbody>\n",
              "    <tr>\n",
              "      <th>0</th>\n",
              "      <td>0</td>\n",
              "      <td>2019-09-01</td>\n",
              "      <td>4270000</td>\n",
              "      <td>시외</td>\n",
              "      <td>344</td>\n",
              "      <td>제주썬호텔</td>\n",
              "      <td>33.48990</td>\n",
              "      <td>126.49373</td>\n",
              "      <td>0.0</td>\n",
              "      <td>1.0</td>\n",
              "      <td>2.0</td>\n",
              "      <td>5.0</td>\n",
              "      <td>2.0</td>\n",
              "      <td>6.0</td>\n",
              "      <td>0.0</td>\n",
              "      <td>0.0</td>\n",
              "      <td>0.0</td>\n",
              "      <td>0.0</td>\n",
              "      <td>0.0</td>\n",
              "      <td>0.0</td>\n",
              "      <td>0.0</td>\n",
              "    </tr>\n",
              "    <tr>\n",
              "      <th>1</th>\n",
              "      <td>1</td>\n",
              "      <td>2019-09-01</td>\n",
              "      <td>4270000</td>\n",
              "      <td>시외</td>\n",
              "      <td>357</td>\n",
              "      <td>한라병원</td>\n",
              "      <td>33.48944</td>\n",
              "      <td>126.48508</td>\n",
              "      <td>1.0</td>\n",
              "      <td>4.0</td>\n",
              "      <td>4.0</td>\n",
              "      <td>2.0</td>\n",
              "      <td>5.0</td>\n",
              "      <td>6.0</td>\n",
              "      <td>0.0</td>\n",
              "      <td>0.0</td>\n",
              "      <td>0.0</td>\n",
              "      <td>0.0</td>\n",
              "      <td>0.0</td>\n",
              "      <td>0.0</td>\n",
              "      <td>5.0</td>\n",
              "    </tr>\n",
              "    <tr>\n",
              "      <th>2</th>\n",
              "      <td>2</td>\n",
              "      <td>2019-09-01</td>\n",
              "      <td>4270000</td>\n",
              "      <td>시외</td>\n",
              "      <td>432</td>\n",
              "      <td>정존마을</td>\n",
              "      <td>33.48181</td>\n",
              "      <td>126.47352</td>\n",
              "      <td>1.0</td>\n",
              "      <td>1.0</td>\n",
              "      <td>0.0</td>\n",
              "      <td>2.0</td>\n",
              "      <td>0.0</td>\n",
              "      <td>0.0</td>\n",
              "      <td>0.0</td>\n",
              "      <td>0.0</td>\n",
              "      <td>0.0</td>\n",
              "      <td>0.0</td>\n",
              "      <td>0.0</td>\n",
              "      <td>0.0</td>\n",
              "      <td>2.0</td>\n",
              "    </tr>\n",
              "    <tr>\n",
              "      <th>3</th>\n",
              "      <td>3</td>\n",
              "      <td>2019-09-01</td>\n",
              "      <td>4270000</td>\n",
              "      <td>시내</td>\n",
              "      <td>1579</td>\n",
              "      <td>제주국제공항(600번)</td>\n",
              "      <td>33.50577</td>\n",
              "      <td>126.49252</td>\n",
              "      <td>0.0</td>\n",
              "      <td>17.0</td>\n",
              "      <td>6.0</td>\n",
              "      <td>26.0</td>\n",
              "      <td>14.0</td>\n",
              "      <td>16.0</td>\n",
              "      <td>0.0</td>\n",
              "      <td>0.0</td>\n",
              "      <td>0.0</td>\n",
              "      <td>0.0</td>\n",
              "      <td>0.0</td>\n",
              "      <td>0.0</td>\n",
              "      <td>53.0</td>\n",
              "    </tr>\n",
              "    <tr>\n",
              "      <th>4</th>\n",
              "      <td>4</td>\n",
              "      <td>2019-09-01</td>\n",
              "      <td>4270000</td>\n",
              "      <td>시내</td>\n",
              "      <td>1646</td>\n",
              "      <td>중문관광단지입구</td>\n",
              "      <td>33.25579</td>\n",
              "      <td>126.41260</td>\n",
              "      <td>0.0</td>\n",
              "      <td>0.0</td>\n",
              "      <td>0.0</td>\n",
              "      <td>0.0</td>\n",
              "      <td>0.0</td>\n",
              "      <td>0.0</td>\n",
              "      <td>0.0</td>\n",
              "      <td>0.0</td>\n",
              "      <td>0.0</td>\n",
              "      <td>1.0</td>\n",
              "      <td>0.0</td>\n",
              "      <td>0.0</td>\n",
              "      <td>0.0</td>\n",
              "    </tr>\n",
              "  </tbody>\n",
              "</table>\n",
              "</div>"
            ],
            "text/plain": [
              "   id       date  bus_route_id  ... 10~11_takeoff  11~12_takeoff 18~20_ride\n",
              "0   0 2019-09-01       4270000  ...           0.0            0.0        0.0\n",
              "1   1 2019-09-01       4270000  ...           0.0            0.0        5.0\n",
              "2   2 2019-09-01       4270000  ...           0.0            0.0        2.0\n",
              "3   3 2019-09-01       4270000  ...           0.0            0.0       53.0\n",
              "4   4 2019-09-01       4270000  ...           0.0            0.0        0.0\n",
              "\n",
              "[5 rows x 21 columns]"
            ]
          },
          "metadata": {
            "tags": []
          },
          "execution_count": 17
        }
      ]
    },
    {
      "cell_type": "markdown",
      "metadata": {
        "id": "2KDdTeYggTI7",
        "colab_type": "text"
      },
      "source": [
        "트레인 데이터는 약 41만개, 테스트는 약 23만\n",
        "주어진 컬럼은 20개, 예측해야 하는 것은 인원."
      ]
    },
    {
      "cell_type": "markdown",
      "metadata": {
        "id": "En7TyO5rhZO7",
        "colab_type": "text"
      },
      "source": [
        "#1. date 변수 변환"
      ]
    },
    {
      "cell_type": "code",
      "metadata": {
        "id": "o2YOEurkhuZD",
        "colab_type": "code",
        "colab": {
          "base_uri": "https://localhost:8080/",
          "height": 35
        },
        "outputId": "a78f60e4-89fc-4d76-8c6a-eca80af4f65b"
      },
      "source": [
        "# date 컬럼의 타입 확인\n",
        "print(type(train['date'][0]))"
      ],
      "execution_count": 14,
      "outputs": [
        {
          "output_type": "stream",
          "text": [
            "<class 'str'>\n"
          ],
          "name": "stdout"
        }
      ]
    },
    {
      "cell_type": "code",
      "metadata": {
        "id": "ssz84qM0gsSN",
        "colab_type": "code",
        "colab": {}
      },
      "source": [
        "#datetime 형식으로 타입을 변환\n",
        "train['date'] = pd.to_datetime(train['date'])"
      ],
      "execution_count": 0,
      "outputs": []
    },
    {
      "cell_type": "code",
      "metadata": {
        "id": "dLpqdGvjh6N0",
        "colab_type": "code",
        "colab": {
          "base_uri": "https://localhost:8080/",
          "height": 35
        },
        "outputId": "1989a4db-7900-40ca-de75-4e7016c5e118"
      },
      "source": [
        "# date 컬럼의 타입 변환 확인\n",
        "print(type(train['date'][0]))"
      ],
      "execution_count": 16,
      "outputs": [
        {
          "output_type": "stream",
          "text": [
            "<class 'pandas._libs.tslibs.timestamps.Timestamp'>\n"
          ],
          "name": "stdout"
        }
      ]
    },
    {
      "cell_type": "code",
      "metadata": {
        "id": "9-7G_1HahiaQ",
        "colab_type": "code",
        "colab": {}
      },
      "source": [
        "# 날짜를 명목척도로 사용하기 위해서 숫자를 \"월화수목금토일\"로 구분\n",
        "train['weekday'] = train['date'].dt.weekday\n",
        "train[['weekday']].head()\n",
        "\n",
        "# 명목변수로 구분된 'date'를 더미/인식 변수, 그러니까 월요일이면 1, 아니면 0인 형태로 바꿔줌\n",
        "train = pd.get_dummies(train, columns=['weekday'])"
      ],
      "execution_count": 0,
      "outputs": []
    },
    {
      "cell_type": "code",
      "metadata": {
        "id": "0v46OQFyi20E",
        "colab_type": "code",
        "colab": {}
      },
      "source": [
        "# 테스트에 대해서도 똑같이 수행\n",
        "\n",
        "test['date'] = pd.to_datetime(test['date'])\n",
        "test['weekday'] = test['date'].dt.weekday\n",
        "test = pd.get_dummies(test, columns=['weekday'])"
      ],
      "execution_count": 0,
      "outputs": []
    },
    {
      "cell_type": "code",
      "metadata": {
        "id": "mbpPB2ehkhk_",
        "colab_type": "code",
        "colab": {
          "base_uri": "https://localhost:8080/",
          "height": 35
        },
        "outputId": "adfcb3bc-e20a-445a-f955-0c80e410dbfe"
      },
      "source": [
        "# 칼럼 수 확인\n",
        "train.shape"
      ],
      "execution_count": 30,
      "outputs": [
        {
          "output_type": "execute_result",
          "data": {
            "text/plain": [
              "(415423, 28)"
            ]
          },
          "metadata": {
            "tags": []
          },
          "execution_count": 30
        }
      ]
    },
    {
      "cell_type": "markdown",
      "metadata": {
        "id": "-QoHM1GqkyhN",
        "colab_type": "text"
      },
      "source": [
        "각각의 요일에 해당하는 7개의 피쳐가 늘었음을 확인 할 수 있음."
      ]
    },
    {
      "cell_type": "markdown",
      "metadata": {
        "id": "VaQMCoPBk33V",
        "colab_type": "text"
      },
      "source": [
        "#2. in_out 변수 확인"
      ]
    },
    {
      "cell_type": "code",
      "metadata": {
        "id": "4QrM4657kqG6",
        "colab_type": "code",
        "colab": {
          "base_uri": "https://localhost:8080/",
          "height": 72
        },
        "outputId": "a1c1fa9e-b644-4b4a-8987-2eca0d807f79"
      },
      "source": [
        "train['in_out'].value_counts()"
      ],
      "execution_count": 32,
      "outputs": [
        {
          "output_type": "execute_result",
          "data": {
            "text/plain": [
              "시내    408500\n",
              "시외      6923\n",
              "Name: in_out, dtype: int64"
            ]
          },
          "metadata": {
            "tags": []
          },
          "execution_count": 32
        }
      ]
    },
    {
      "cell_type": "markdown",
      "metadata": {
        "id": "RluduHTFlKHE",
        "colab_type": "text"
      },
      "source": [
        "시외가 상대적으로 매우 적으므로, 시외를 1 시내를 0으로 변환한다. \n",
        "**\"이상치\"를 1로 놓는 것으로 생각된다."
      ]
    },
    {
      "cell_type": "code",
      "metadata": {
        "id": "kO5HQS0nlI8E",
        "colab_type": "code",
        "colab": {}
      },
      "source": [
        "# train\n",
        "train['in_out'] = train['in_out'].map({'시내':0, '시외':1})\n",
        "\n",
        "#x test\n",
        "\n",
        "test['in_out'] = test['in_out'].map({'시내':0, '시외':1})"
      ],
      "execution_count": 0,
      "outputs": []
    },
    {
      "cell_type": "markdown",
      "metadata": {
        "id": "qrDxVpjLl0xO",
        "colab_type": "text"
      },
      "source": [
        "#3. **좌표 데이터를 이용한 피쳐 엔지니어링**\n"
      ]
    },
    {
      "cell_type": "markdown",
      "metadata": {
        "id": "zi8l7flsl8wl",
        "colab_type": "text"
      },
      "source": [
        "제주도 인구가 서귀포시와 제주시에 몰려 있다.그러므로 해당 지역과의 거리를 각각 feature로 추가하겠다. \n",
        "\n",
        "* 이 피쳐로 인하여 정확도가 상승할까? 이 피쳐는 탑승 인원 산정에 영향을 주나? 차라리 각 지역별 인구수를 가져오는 편이 더 낫지 않을까?\n",
        "\n",
        "\n",
        "dis_jejusi : 버스정류장과 제주시와의 거리\n",
        "\n",
        "dis_seoquipo : 버스정류장과 서귀포시와의 거리\n",
        "\n",
        "제주시의 위.경도 : 33.500770, 126.522761\n",
        "\n",
        "서귀포시의 위.경도 : 33.259429, 126.558217"
      ]
    },
    {
      "cell_type": "code",
      "metadata": {
        "id": "B9AgVjCGlA8I",
        "colab_type": "code",
        "colab": {}
      },
      "source": [
        "import geopy.distance\n",
        "\n",
        "coords_jejusi = (33.500770, 126.522761) #제주시의 위도 경도\n",
        "coords_seoquipo = (33.259429, 126.558217) #서귀포시의 위도 경도\n",
        "\n",
        "#train\n",
        "train['dis_jejusi'] = [geopy.distance.vincenty((train['latitude'].iloc[i],train['longitude'].iloc[i]), coords_jejusi).km for i in range(len(train))]\n",
        "train['dis_seoquipo'] = [geopy.distance.vincenty((train['latitude'].iloc[i],train['longitude'].iloc[i]), coords_seoquipo).km for i in range(len(train))]\n",
        "#test\n",
        "test['dis_jejusi'] = [geopy.distance.vincenty((test['latitude'].iloc[i],test['longitude'].iloc[i]), coords_jejusi).km for i in range(len(test))]\n",
        "test['dis_seoquipo'] = [geopy.distance.vincenty((test['latitude'].iloc[i],test['longitude'].iloc[i]), coords_seoquipo).km for i in range(len(test))]"
      ],
      "execution_count": 0,
      "outputs": []
    },
    {
      "cell_type": "code",
      "metadata": {
        "id": "ISQ_uYO1oUwc",
        "colab_type": "code",
        "colab": {
          "base_uri": "https://localhost:8080/",
          "height": 54
        },
        "outputId": "3b5bd19b-7d3c-436e-943f-1cb2d2f1c810"
      },
      "source": [
        "# corr 로 둘의 상관관계를 확인\n",
        "print(train['dis_jejusi'].corr(train['18~20_ride']))\n",
        "print(train['dis_seoquipo'].corr(train['18~20_ride']))"
      ],
      "execution_count": 42,
      "outputs": [
        {
          "output_type": "stream",
          "text": [
            "-0.12380548460763058\n",
            "0.022087013666358277\n"
          ],
          "name": "stdout"
        }
      ]
    },
    {
      "cell_type": "markdown",
      "metadata": {
        "id": "34igIdEuo1nl",
        "colab_type": "text"
      },
      "source": [
        "제주시는 거리가 멀어질수록, 줄어들지만, 서귀포시는 애매하죠?"
      ]
    },
    {
      "cell_type": "code",
      "metadata": {
        "id": "jl-735h_pGZy",
        "colab_type": "code",
        "colab": {
          "base_uri": "https://localhost:8080/",
          "height": 35
        },
        "outputId": "338ec588-8dbf-4cd3-fb97-8847232448b2"
      },
      "source": [
        "# 칼럼 수 확인\n",
        "train.shape"
      ],
      "execution_count": 43,
      "outputs": [
        {
          "output_type": "execute_result",
          "data": {
            "text/plain": [
              "(415423, 30)"
            ]
          },
          "metadata": {
            "tags": []
          },
          "execution_count": 43
        }
      ]
    },
    {
      "cell_type": "markdown",
      "metadata": {
        "id": "8dw0dh3zpKRs",
        "colab_type": "text"
      },
      "source": [
        "컬럼이 또 2개 늘어, 30개가 되었다."
      ]
    },
    {
      "cell_type": "code",
      "metadata": {
        "id": "8o_3HCSlpmfN",
        "colab_type": "code",
        "colab": {
          "base_uri": "https://localhost:8080/",
          "height": 145
        },
        "outputId": "13585c00-e6e5-41d0-9ba9-b4fc492307ce"
      },
      "source": [
        "#우리에게 주어진 칼럼을 확인한다.\n",
        "train.columns.get_values()"
      ],
      "execution_count": 44,
      "outputs": [
        {
          "output_type": "execute_result",
          "data": {
            "text/plain": [
              "array(['id', 'date', 'bus_route_id', 'in_out', 'station_code',\n",
              "       'station_name', 'latitude', 'longitude', '6~7_ride', '7~8_ride',\n",
              "       '8~9_ride', '9~10_ride', '10~11_ride', '11~12_ride', '6~7_takeoff',\n",
              "       '7~8_takeoff', '8~9_takeoff', '9~10_takeoff', '10~11_takeoff',\n",
              "       '11~12_takeoff', '18~20_ride', 'weekday_0', 'weekday_1',\n",
              "       'weekday_2', 'weekday_3', 'weekday_4', 'weekday_5', 'weekday_6',\n",
              "       'dis_jejusi', 'dis_seoquipo'], dtype=object)"
            ]
          },
          "metadata": {
            "tags": []
          },
          "execution_count": 44
        }
      ]
    },
    {
      "cell_type": "markdown",
      "metadata": {
        "id": "TKpUsUTVqLtt",
        "colab_type": "text"
      },
      "source": [
        "1. 'id' : 식별자임으로 이용 불가 X\n",
        "\n",
        "2. 'date': weekday로 변환하는데 이용됨 X\n",
        "\n",
        "3. 'bus_route_id' : 특정 버스마다 \n",
        "이용고객이 다를 것이니 이용가는 하지 않을까 ?\n",
        "\n",
        "4. 'in_out' : 시내 시외 구분으로 사용 됨 O\n",
        "\n",
        "5.  'station_code' : 탑승 정류장 ?\n",
        "\n",
        "6. 'latitude', 'longitude' : 주요 도시와의 \n",
        "거리를 재는데 사용 됨 X\n",
        "\n",
        "7. '67_ride', '78_ride', '89_ride', \n",
        "'910_ride', '1011_ride', '1112_ride', '67_takeoff','78_takeoff', '89_takeoff', '910_takeoff', '1011_takeoff', '1112_takeoff' : 실제 탑승 인원 O\n",
        "\n",
        "8. 'weekday_' : date로 사용됨\n",
        "\n",
        "9. 'dis_jejusi', 'dis_seoquipo' : 주요 도시와의 거리 O\n",
        "\n",
        "10. '18~20_ride' : y 값  \n",
        "\n",
        "\n",
        "   , "
      ]
    },
    {
      "cell_type": "markdown",
      "metadata": {
        "id": "n0RwuGGOs9PX",
        "colab_type": "text"
      },
      "source": [
        "일단 예시를 활용해서 예측값을 구해본다."
      ]
    },
    {
      "cell_type": "code",
      "metadata": {
        "id": "qhIeafUetFID",
        "colab_type": "code",
        "colab": {}
      },
      "source": [
        "input_var=['in_out','latitude','longitude','6~7_ride', '7~8_ride', '8~9_ride', '9~10_ride',\n",
        "       '10~11_ride', '11~12_ride', '6~7_takeoff', '7~8_takeoff', '8~9_takeoff',\n",
        "       '9~10_takeoff', '10~11_takeoff', '11~12_takeoff','weekday_0', 'weekday_1', 'weekday_2', 'weekday_3', 'weekday_4',\n",
        "       'weekday_5', 'weekday_6', 'dis_jejusi', 'dis_seoquipo']\n",
        "target=['18~20_ride']"
      ],
      "execution_count": 0,
      "outputs": []
    },
    {
      "cell_type": "code",
      "metadata": {
        "id": "mIr1F_2FtGcX",
        "colab_type": "code",
        "colab": {}
      },
      "source": [
        "X_train=train[input_var]\n",
        "y_train=train[target]\n",
        "\n",
        "X_test=test[input_var]"
      ],
      "execution_count": 0,
      "outputs": []
    },
    {
      "cell_type": "code",
      "metadata": {
        "id": "Rzy06ZBxtHbw",
        "colab_type": "code",
        "colab": {}
      },
      "source": [
        "from sklearn.ensemble import RandomForestRegressor\n",
        "rf = RandomForestRegressor(random_state=1217)"
      ],
      "execution_count": 0,
      "outputs": []
    },
    {
      "cell_type": "code",
      "metadata": {
        "id": "B5SPQafZtIPd",
        "colab_type": "code",
        "colab": {
          "base_uri": "https://localhost:8080/",
          "height": 145
        },
        "outputId": "c31a82f9-1581-4101-c6f1-37464c4bd9bf"
      },
      "source": [
        "rf.fit(X_train,y_train)"
      ],
      "execution_count": 61,
      "outputs": [
        {
          "output_type": "execute_result",
          "data": {
            "text/plain": [
              "RandomForestRegressor(bootstrap=True, criterion='mse', max_depth=None,\n",
              "                      max_features='auto', max_leaf_nodes=None,\n",
              "                      min_impurity_decrease=0.0, min_impurity_split=None,\n",
              "                      min_samples_leaf=1, min_samples_split=2,\n",
              "                      min_weight_fraction_leaf=0.0, n_estimators=10,\n",
              "                      n_jobs=None, oob_score=False, random_state=1217,\n",
              "                      verbose=0, warm_start=False)"
            ]
          },
          "metadata": {
            "tags": []
          },
          "execution_count": 61
        }
      ]
    },
    {
      "cell_type": "code",
      "metadata": {
        "id": "DlaMz-dAtioH",
        "colab_type": "code",
        "colab": {}
      },
      "source": [
        "test['18~20_ride'] = rf.predict(X_test)\n",
        "test[['id','18~20_ride']].to_csv(\"dacon_base_line.csv\",index=False)"
      ],
      "execution_count": 0,
      "outputs": []
    },
    {
      "cell_type": "code",
      "metadata": {
        "id": "3Pdl2Fl-tpw0",
        "colab_type": "code",
        "colab": {}
      },
      "source": [
        "sample = pd.read_csv(\"/content/drive/My Drive/데이콘 공모전/데이터/13회 제주테크노파크 버스정류장 승하차 예측 data/submission_sample.csv\")"
      ],
      "execution_count": 0,
      "outputs": []
    },
    {
      "cell_type": "code",
      "metadata": {
        "id": "sUMl5SoOwQHR",
        "colab_type": "code",
        "colab": {
          "base_uri": "https://localhost:8080/",
          "height": 407
        },
        "outputId": "da2eab44-a64f-4513-a17d-fe9050e32571"
      },
      "source": [
        "sample"
      ],
      "execution_count": 64,
      "outputs": [
        {
          "output_type": "execute_result",
          "data": {
            "text/html": [
              "<div>\n",
              "<style scoped>\n",
              "    .dataframe tbody tr th:only-of-type {\n",
              "        vertical-align: middle;\n",
              "    }\n",
              "\n",
              "    .dataframe tbody tr th {\n",
              "        vertical-align: top;\n",
              "    }\n",
              "\n",
              "    .dataframe thead th {\n",
              "        text-align: right;\n",
              "    }\n",
              "</style>\n",
              "<table border=\"1\" class=\"dataframe\">\n",
              "  <thead>\n",
              "    <tr style=\"text-align: right;\">\n",
              "      <th></th>\n",
              "      <th>id</th>\n",
              "      <th>18~20_ride</th>\n",
              "    </tr>\n",
              "  </thead>\n",
              "  <tbody>\n",
              "    <tr>\n",
              "      <th>0</th>\n",
              "      <td>415423</td>\n",
              "      <td>0</td>\n",
              "    </tr>\n",
              "    <tr>\n",
              "      <th>1</th>\n",
              "      <td>415424</td>\n",
              "      <td>0</td>\n",
              "    </tr>\n",
              "    <tr>\n",
              "      <th>2</th>\n",
              "      <td>415425</td>\n",
              "      <td>0</td>\n",
              "    </tr>\n",
              "    <tr>\n",
              "      <th>3</th>\n",
              "      <td>415426</td>\n",
              "      <td>0</td>\n",
              "    </tr>\n",
              "    <tr>\n",
              "      <th>4</th>\n",
              "      <td>415427</td>\n",
              "      <td>0</td>\n",
              "    </tr>\n",
              "    <tr>\n",
              "      <th>...</th>\n",
              "      <td>...</td>\n",
              "      <td>...</td>\n",
              "    </tr>\n",
              "    <tr>\n",
              "      <th>228165</th>\n",
              "      <td>643588</td>\n",
              "      <td>0</td>\n",
              "    </tr>\n",
              "    <tr>\n",
              "      <th>228166</th>\n",
              "      <td>643589</td>\n",
              "      <td>0</td>\n",
              "    </tr>\n",
              "    <tr>\n",
              "      <th>228167</th>\n",
              "      <td>643590</td>\n",
              "      <td>0</td>\n",
              "    </tr>\n",
              "    <tr>\n",
              "      <th>228168</th>\n",
              "      <td>643591</td>\n",
              "      <td>0</td>\n",
              "    </tr>\n",
              "    <tr>\n",
              "      <th>228169</th>\n",
              "      <td>643592</td>\n",
              "      <td>0</td>\n",
              "    </tr>\n",
              "  </tbody>\n",
              "</table>\n",
              "<p>228170 rows × 2 columns</p>\n",
              "</div>"
            ],
            "text/plain": [
              "            id  18~20_ride\n",
              "0       415423           0\n",
              "1       415424           0\n",
              "2       415425           0\n",
              "3       415426           0\n",
              "4       415427           0\n",
              "...        ...         ...\n",
              "228165  643588           0\n",
              "228166  643589           0\n",
              "228167  643590           0\n",
              "228168  643591           0\n",
              "228169  643592           0\n",
              "\n",
              "[228170 rows x 2 columns]"
            ]
          },
          "metadata": {
            "tags": []
          },
          "execution_count": 64
        }
      ]
    },
    {
      "cell_type": "code",
      "metadata": {
        "id": "C8wGInrawRBj",
        "colab_type": "code",
        "colab": {}
      },
      "source": [
        ""
      ],
      "execution_count": 0,
      "outputs": []
    }
  ]
}